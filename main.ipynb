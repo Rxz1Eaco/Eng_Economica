{
 "cells": [
  {
   "cell_type": "markdown",
   "id": "b7cac4ac",
   "metadata": {},
   "source": [
    "Importação das bibliotecas"
   ]
  },
  {
   "cell_type": "code",
   "execution_count": 2,
   "id": "c6759834",
   "metadata": {},
   "outputs": [],
   "source": [
    "import pandas as pd"
   ]
  },
  {
   "cell_type": "markdown",
   "id": "a08e7a71",
   "metadata": {},
   "source": [
    "Criação do DataFrame"
   ]
  },
  {
   "cell_type": "code",
   "execution_count": 26,
   "id": "7445e8db",
   "metadata": {},
   "outputs": [],
   "source": [
    "dados_principais = {\n",
    "'Item':['Mão-de-obra direta','Matéria-prima direta','Energia elétrica','Outros custos','Despesas de vendas','Vendas = produção','Preço unitário de venda','Depreciação'],\n",
    "'Custo/Unidade':[2,1,0.5,1.3,2.5,5000,10,6000,],\n",
    "'Incremento Anual Projetado/%a.a':[7,8,10,5,7,3,0,0]\n",
    "}\n",
    "\n",
    "\n",
    "df_principal = pd.DataFrame(dados_principais)\n",
    "\n",
    "imposto_renda = (3400/100)\n",
    "\n",
    "dados_imposto_renda = {\n",
    "    'Imposto de renda':[imposto_renda]\n",
    "}\n",
    "df_imposto_renda = pd.DataFrame(dados_imposto_renda)\n"
   ]
  },
  {
   "cell_type": "markdown",
   "id": "9f6b0fad",
   "metadata": {},
   "source": [
    "Exibindo o DataFrame"
   ]
  },
  {
   "cell_type": "code",
   "execution_count": 27,
   "id": "0238bded",
   "metadata": {},
   "outputs": [
    {
     "data": {
      "text/html": [
       "<div>\n",
       "<style scoped>\n",
       "    .dataframe tbody tr th:only-of-type {\n",
       "        vertical-align: middle;\n",
       "    }\n",
       "\n",
       "    .dataframe tbody tr th {\n",
       "        vertical-align: top;\n",
       "    }\n",
       "\n",
       "    .dataframe thead th {\n",
       "        text-align: right;\n",
       "    }\n",
       "</style>\n",
       "<table border=\"1\" class=\"dataframe\">\n",
       "  <thead>\n",
       "    <tr style=\"text-align: right;\">\n",
       "      <th></th>\n",
       "      <th>Item</th>\n",
       "      <th>Custo/Unidade</th>\n",
       "      <th>Incremento Anual Projetado/%a.a</th>\n",
       "    </tr>\n",
       "  </thead>\n",
       "  <tbody>\n",
       "    <tr>\n",
       "      <th>0</th>\n",
       "      <td>Mão-de-obra direta</td>\n",
       "      <td>2.0</td>\n",
       "      <td>7</td>\n",
       "    </tr>\n",
       "    <tr>\n",
       "      <th>1</th>\n",
       "      <td>Matéria-prima direta</td>\n",
       "      <td>1.0</td>\n",
       "      <td>8</td>\n",
       "    </tr>\n",
       "    <tr>\n",
       "      <th>2</th>\n",
       "      <td>Energia elétrica</td>\n",
       "      <td>0.5</td>\n",
       "      <td>10</td>\n",
       "    </tr>\n",
       "    <tr>\n",
       "      <th>3</th>\n",
       "      <td>Outros custos</td>\n",
       "      <td>1.3</td>\n",
       "      <td>5</td>\n",
       "    </tr>\n",
       "    <tr>\n",
       "      <th>4</th>\n",
       "      <td>Despesas de vendas</td>\n",
       "      <td>2.5</td>\n",
       "      <td>7</td>\n",
       "    </tr>\n",
       "    <tr>\n",
       "      <th>5</th>\n",
       "      <td>Vendas = produção</td>\n",
       "      <td>5000.0</td>\n",
       "      <td>3</td>\n",
       "    </tr>\n",
       "    <tr>\n",
       "      <th>6</th>\n",
       "      <td>Preço unitário de venda</td>\n",
       "      <td>10.0</td>\n",
       "      <td>0</td>\n",
       "    </tr>\n",
       "    <tr>\n",
       "      <th>7</th>\n",
       "      <td>Depreciação</td>\n",
       "      <td>6000.0</td>\n",
       "      <td>0</td>\n",
       "    </tr>\n",
       "  </tbody>\n",
       "</table>\n",
       "</div>"
      ],
      "text/plain": [
       "                      Item  Custo/Unidade  Incremento Anual Projetado/%a.a\n",
       "0       Mão-de-obra direta            2.0                                7\n",
       "1     Matéria-prima direta            1.0                                8\n",
       "2         Energia elétrica            0.5                               10\n",
       "3            Outros custos            1.3                                5\n",
       "4       Despesas de vendas            2.5                                7\n",
       "5        Vendas = produção         5000.0                                3\n",
       "6  Preço unitário de venda           10.0                                0\n",
       "7              Depreciação         6000.0                                0"
      ]
     },
     "metadata": {},
     "output_type": "display_data"
    },
    {
     "data": {
      "text/html": [
       "<div>\n",
       "<style scoped>\n",
       "    .dataframe tbody tr th:only-of-type {\n",
       "        vertical-align: middle;\n",
       "    }\n",
       "\n",
       "    .dataframe tbody tr th {\n",
       "        vertical-align: top;\n",
       "    }\n",
       "\n",
       "    .dataframe thead th {\n",
       "        text-align: right;\n",
       "    }\n",
       "</style>\n",
       "<table border=\"1\" class=\"dataframe\">\n",
       "  <thead>\n",
       "    <tr style=\"text-align: right;\">\n",
       "      <th></th>\n",
       "      <th>Imposto de renda</th>\n",
       "    </tr>\n",
       "  </thead>\n",
       "  <tbody>\n",
       "    <tr>\n",
       "      <th>0</th>\n",
       "      <td>34.0</td>\n",
       "    </tr>\n",
       "  </tbody>\n",
       "</table>\n",
       "</div>"
      ],
      "text/plain": [
       "   Imposto de renda\n",
       "0              34.0"
      ]
     },
     "metadata": {},
     "output_type": "display_data"
    }
   ],
   "source": [
    "display(df_principal)\n",
    "display(df_imposto_renda)"
   ]
  }
 ],
 "metadata": {
  "kernelspec": {
   "display_name": "base",
   "language": "python",
   "name": "python3"
  },
  "language_info": {
   "codemirror_mode": {
    "name": "ipython",
    "version": 3
   },
   "file_extension": ".py",
   "mimetype": "text/x-python",
   "name": "python",
   "nbconvert_exporter": "python",
   "pygments_lexer": "ipython3",
   "version": "3.11.7"
  }
 },
 "nbformat": 4,
 "nbformat_minor": 5
}
